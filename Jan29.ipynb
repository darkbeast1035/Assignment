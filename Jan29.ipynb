{
 "cells": [
  {
   "cell_type": "code",
   "execution_count": null,
   "id": "41c2297c-33c8-4c8e-853b-62d289ab4eb4",
   "metadata": {},
   "outputs": [],
   "source": [
    "#Question 1\n",
    "'''\n",
    "Guido Van Rossum \n",
    "'''"
   ]
  },
  {
   "cell_type": "code",
   "execution_count": null,
   "id": "f75d67d4-e9bc-47e3-8518-995ff275ff98",
   "metadata": {},
   "outputs": [],
   "source": [
    "#Question 2\n",
    "'''\n",
    "Python supports Object Oriented Programming and Structured Programming\n",
    "'''"
   ]
  },
  {
   "cell_type": "code",
   "execution_count": null,
   "id": "fb58d75a-b04a-4f84-a412-2207c603e44c",
   "metadata": {},
   "outputs": [],
   "source": [
    "#Question 3\n",
    "'''\n",
    "Yes, Python is case sensitive \n",
    "'''"
   ]
  },
  {
   "cell_type": "code",
   "execution_count": null,
   "id": "a8e0834f-4e05-48f1-9bbe-67fc340c94d0",
   "metadata": {},
   "outputs": [],
   "source": [
    "#Question 4\n",
    "'''\n",
    ".py is the correct extension of hte Python file\n",
    "'''"
   ]
  },
  {
   "cell_type": "code",
   "execution_count": null,
   "id": "2473d641-bb20-428c-8767-a888684d46c3",
   "metadata": {},
   "outputs": [],
   "source": [
    "#Question 5\n",
    "'''\n",
    "Python is interpreted language\n",
    "'''"
   ]
  },
  {
   "cell_type": "code",
   "execution_count": null,
   "id": "ff529e1e-b397-4b67-9b0d-fd4ee52c0ef0",
   "metadata": {},
   "outputs": [],
   "source": [
    "#Question 6\n",
    "'''\n",
    "a function, module, class are the few blocks of code to define in Python language\n",
    "'''"
   ]
  },
  {
   "cell_type": "code",
   "execution_count": null,
   "id": "f8e19df8-bf4b-4b18-8d6b-6d297187bdc1",
   "metadata": {},
   "outputs": [],
   "source": [
    "#Quesiton 7\n",
    "'''\n",
    "#(hash) is used to give single line comment in Python\n",
    "'''"
   ]
  },
  {
   "cell_type": "code",
   "execution_count": null,
   "id": "653fe8f1-5d9c-4f4d-a1b5-730996e768f4",
   "metadata": {},
   "outputs": [],
   "source": [
    "#Question 8 \n",
    "'''\n",
    "sys. version can be used to find the version of python we are currenty using\n",
    "'''"
   ]
  },
  {
   "cell_type": "code",
   "execution_count": null,
   "id": "95989eec-46d3-42c1-8038-80f5942ab89a",
   "metadata": {},
   "outputs": [],
   "source": [
    "#Question 9\n",
    "'''\n",
    "lambda\n",
    "'''"
   ]
  },
  {
   "cell_type": "code",
   "execution_count": null,
   "id": "271e7e67-c6a0-4726-91aa-ef21ba0b5e33",
   "metadata": {},
   "outputs": [],
   "source": [
    "#Question 10\n",
    "'''\n",
    "pip stands for Preferred Installer Program in python\n",
    "'''\n"
   ]
  },
  {
   "cell_type": "code",
   "execution_count": 1,
   "id": "a07945cc-a8ec-4975-bb09-d68ec882ae7c",
   "metadata": {},
   "outputs": [],
   "source": [
    "#Question 11\n",
    "'''\n",
    "few built in funtions are len(),sum(),dict(),range(),etc\n",
    "'''"
   ]
  },
  {
   "cell_type": "code",
   "execution_count": null,
   "id": "f467e748-35c4-4f92-af13-750f053dff92",
   "metadata": {},
   "outputs": [],
   "source": [
    "#Question 12\n",
    "'''\n",
    "79 characters is the maximum possible length for an identifier\n",
    "'''"
   ]
  },
  {
   "cell_type": "code",
   "execution_count": null,
   "id": "7bde0aea-1668-4520-b8c2-d315c77568d8",
   "metadata": {},
   "outputs": [],
   "source": [
    "#Question 13\n",
    "'''\n",
    "Extensive libraries\n",
    "Write less, do more\n",
    "Portablity\n",
    "User friendly\n",
    "Easy to learn\n",
    "Web development\n",
    "Data science\n",
    "'''"
   ]
  },
  {
   "cell_type": "code",
   "execution_count": null,
   "id": "fbde78f6-cc65-4abe-81c1-ccc8b2316c81",
   "metadata": {},
   "outputs": [],
   "source": [
    "#Question 14\n",
    "'''\n",
    "Memory is managed by Pyton private heap space\n",
    "'''"
   ]
  },
  {
   "cell_type": "code",
   "execution_count": null,
   "id": "5ecf0c16-e614-4785-a35b-e4b83ce870ba",
   "metadata": {},
   "outputs": [],
   "source": [
    "#Question 15\n",
    "'''\n",
    "1) Before installation process download python from python.org\n",
    "2) Download the required version and follow the further steps for installation process\n",
    "3) To verify installation tyoe \"python ---version\" on the terminal\n",
    "4) The first step is to locate the directory in which your target Python executable lives. \n",
    "   The path to the directory is what you’ll be adding to the PATH environment variable.\n",
    "   In the section entitled User Variables, double-click on the entry that says Path. \n",
    "   Another window will pop up showing a list of paths. Click the New button and paste \n",
    "   the path to your Python executable there\n",
    "'''"
   ]
  },
  {
   "cell_type": "code",
   "execution_count": null,
   "id": "e9a7e7ac-4dc7-4081-8207-e06dfb4f8c38",
   "metadata": {},
   "outputs": [],
   "source": [
    "#Question 16\n",
    "'''\n",
    "Yes, identation is required in python\n",
    "'''"
   ]
  }
 ],
 "metadata": {
  "kernelspec": {
   "display_name": "Python 3 (ipykernel)",
   "language": "python",
   "name": "python3"
  },
  "language_info": {
   "codemirror_mode": {
    "name": "ipython",
    "version": 3
   },
   "file_extension": ".py",
   "mimetype": "text/x-python",
   "name": "python",
   "nbconvert_exporter": "python",
   "pygments_lexer": "ipython3",
   "version": "3.10.8"
  }
 },
 "nbformat": 4,
 "nbformat_minor": 5
}
