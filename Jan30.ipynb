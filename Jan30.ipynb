{
 "cells": [
  {
   "cell_type": "code",
   "execution_count": 2,
   "id": "31cfdc33-7036-430d-a561-8bfee9a1a455",
   "metadata": {},
   "outputs": [
    {
     "name": "stdin",
     "output_type": "stream",
     "text": [
      "Enter the scored percent 60\n"
     ]
    },
    {
     "name": "stdout",
     "output_type": "stream",
     "text": [
      "Grade : C\n"
     ]
    }
   ],
   "source": [
    "#Qeustion 1\n",
    "marks = int(input('Enter the scored percent'))\n",
    "if marks > 90:\n",
    "    print('Grade : A')\n",
    "elif marks > 80 and marks <= 90:\n",
    "    print('Grade : B')\n",
    "elif marks >= 60 and marks <= 80:\n",
    "    print('Grade : C')\n",
    "else:\n",
    "    print('Grade : D')\n",
    "    "
   ]
  },
  {
   "cell_type": "code",
   "execution_count": 3,
   "id": "99e62b89-df4b-469d-ad12-265f8129bcf7",
   "metadata": {},
   "outputs": [
    {
     "name": "stdin",
     "output_type": "stream",
     "text": [
      "Enter the cost price of the bike 190000\n"
     ]
    },
    {
     "name": "stdout",
     "output_type": "stream",
     "text": [
      "The road tax to be paid is 28500.0\n"
     ]
    }
   ],
   "source": [
    "#Question 2\n",
    "cost = int(input('Enter the cost price of the bike'))\n",
    "if cost > 100000:\n",
    "    tax = 15/100 * cost\n",
    "elif cost > 50000 and cost <= 100000:\n",
    "    tax = 10/100 * cost\n",
    "else:\n",
    "    tax = 5/100 * cost\n",
    "print('The road tax to be paid is',tax)\n",
    "    "
   ]
  },
  {
   "cell_type": "code",
   "execution_count": 4,
   "id": "32e6d181-297f-4996-ac15-f993baf0db60",
   "metadata": {},
   "outputs": [
    {
     "name": "stdout",
     "output_type": "stream",
     "text": [
      "[('Delhi', 'Red Fort'), ('Agra', 'Taj Mahal'), ('Jaipur', 'Jal Mahal')]\n"
     ]
    },
    {
     "name": "stdin",
     "output_type": "stream",
     "text": [
      "Enter the name of the city delhi\n"
     ]
    },
    {
     "name": "stdout",
     "output_type": "stream",
     "text": [
      "Red Fort\n"
     ]
    }
   ],
   "source": [
    "#Question 3\n",
    "d = {'Delhi':'Red Fort','Agra':'Taj Mahal','Jaipur':'Jal Mahal'}\n",
    "print(list(d.items()))\n",
    "city = input('Enter the name of the city').lower().capitalize()\n",
    "if city in d.keys():\n",
    "    print(d[city])\n",
    "else:\n",
    "    print('Wrong Input')\n"
   ]
  },
  {
   "cell_type": "code",
   "execution_count": null,
   "id": "a67d09f3-122d-46d1-9058-2a2408655d64",
   "metadata": {},
   "outputs": [],
   "source": [
    "#Question 4\n",
    "c = 0\n",
    "for i in range(1,11):\n",
    "    while i!= 0:\n",
    "        if i%3==0:\n",
    "            c += 1\n",
    "            i = i/3\n",
    "print('A given number can be divided',c,'times before number is less than equal to 10')"
   ]
  },
  {
   "cell_type": "code",
   "execution_count": null,
   "id": "699ea0d8-86d4-4986-a72b-20c78fbccef0",
   "metadata": {},
   "outputs": [],
   "source": [
    "#Question 5\n",
    "'''\n",
    "While loop is used when we do'nt know the number\n",
    "of iterations/range of the loop.\n",
    "Example : To check whether a given number is palindrome or not \n",
    "          logic of palindrom --> [reverse of the number = number]\n",
    "          Here we don't know the user input. Hence we don't know \n",
    "          how much iterations are required to reverse the number and\n",
    "          check whether it is palindrome or not."
   ]
  },
  {
   "cell_type": "code",
   "execution_count": null,
   "id": "0b2bc19c-6878-4378-a5ef-57f62a84edc8",
   "metadata": {},
   "outputs": [],
   "source": [
    "#Question 6\n",
    "print('Pattern 1 :')\n",
    "i = 1\n",
    "while i <= 5:\n",
    "    j = 1\n",
    "    while j <= i:\n",
    "        print(j,end='')\n",
    "        j = j + 1\n",
    "    print()\n",
    "    i = i + 1\n",
    "print('Pattern 2 :')\n",
    "i = 5\n",
    "while i != 0:\n",
    "    j = 5\n",
    "    while j != i-1 :\n",
    "        print(j,end='')\n",
    "        j = j - 1\n",
    "    print()\n",
    "    i = i - 1\n",
    "print('Pattern 3 :')\n",
    "st = list(input('Enter any word'))\n",
    "i = 0\n",
    "while i <= len(st)-1:\n",
    "  j = 0\n",
    "  while j <= i:\n",
    "    print(st[j],end='')\n",
    "    j = j + 1\n",
    "  print()\n",
    "  i = i + 1\n",
    "print('Pattern 4 :')\n",
    "i = 5\n",
    "while i!= 0:\n",
    "  j = i\n",
    "  while j != 0:\n",
    "    print(j,end='')\n",
    "    j = j -1\n",
    "  print()\n",
    "  i = i - 1\n",
    "print('Pattern[mixed] 5 :')\n",
    "i = 5\n",
    "while i != 0:\n",
    "    j = 5\n",
    "    while j != i-1 :\n",
    "        print(j,end='')\n",
    "        j = j - 1\n",
    "    print()\n",
    "    i = i - 1\n",
    "i = 5\n",
    "while i!= 0:\n",
    "  j = i\n",
    "  while j != 0:\n",
    "    print(j,end='')\n",
    "    j = j -1\n",
    "  print()\n",
    "  i = i - 1\n",
    "    \n"
   ]
  },
  {
   "cell_type": "code",
   "execution_count": null,
   "id": "6fc0b630-9fb5-43e0-9c70-bf08257b577e",
   "metadata": {},
   "outputs": [],
   "source": [
    "#Question 7\n",
    "i = 10\n",
    "while i != 0:\n",
    "    print(i)\n",
    "    i--"
   ]
  },
  {
   "cell_type": "code",
   "execution_count": null,
   "id": "78307f9b-3cd0-4fc0-8b85-763358f5bbab",
   "metadata": {},
   "outputs": [],
   "source": [
    "#Question 8\n",
    "i = 10\n",
    "while i != 0:\n",
    "    print(i)\n",
    "    i--"
   ]
  },
  {
   "cell_type": "code",
   "execution_count": null,
   "id": "34ca0c92-1447-49cb-837e-b6f27aa87fe3",
   "metadata": {},
   "outputs": [],
   "source": []
  }
 ],
 "metadata": {
  "kernelspec": {
   "display_name": "Python 3 (ipykernel)",
   "language": "python",
   "name": "python3"
  },
  "language_info": {
   "codemirror_mode": {
    "name": "ipython",
    "version": 3
   },
   "file_extension": ".py",
   "mimetype": "text/x-python",
   "name": "python",
   "nbconvert_exporter": "python",
   "pygments_lexer": "ipython3",
   "version": "3.10.8"
  }
 },
 "nbformat": 4,
 "nbformat_minor": 5
}
