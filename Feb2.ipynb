{
 "cells": [
  {
   "cell_type": "code",
   "execution_count": null,
   "id": "c7596279-8d96-4dd4-be78-562c63a0487a",
   "metadata": {},
   "outputs": [],
   "source": [
    "#Question 1\n",
    "'''\n",
    "For loop is used when the range/number of iterations is known.\n",
    "Example : Printing natural numbers from 1-10\n",
    "          Here we know the range/number of iterations required to \n",
    "          pirnt the desired output.So in this case we can use for loop\n",
    "\n",
    "While loop is used when the range/number of iterations us unknown. \n",
    "The while loop is executed repeatedly until the given boolean condition\n",
    "becomes False.\n",
    "Example :  To check whether a given number is palindrome or not \n",
    "           logic of palindrom --> [reverse of the number = number]\n",
    "           Here we don't know the user input. Hence we don't know \n",
    "           how much iterations are required to reverse the number and\n",
    "           check whether it is palindrome or not."
   ]
  },
  {
   "cell_type": "code",
   "execution_count": 14,
   "id": "1934465a-5408-44f8-87da-1845c98b0db6",
   "metadata": {},
   "outputs": [
    {
     "name": "stdout",
     "output_type": "stream",
     "text": [
      "The sum(using for loop) = 55\n",
      "The product(using for loop) = 3628800\n",
      "The sum(using while loop) = 55\n",
      "The product(using while loop) = 3628800\n"
     ]
    }
   ],
   "source": [
    "#Question 2\n",
    "\n",
    "#for loop calculatu=ion\n",
    "result = 0\n",
    "product = 1\n",
    "for i in range(1,11):\n",
    "    result = result + i\n",
    "    product = product * i\n",
    "print('The sum(using for loop) =',result)\n",
    "print('The product(using for loop) =',product)\n",
    "\n",
    "#While loop calculation\n",
    "result = 0\n",
    "product = 1\n",
    "i=1\n",
    "while i != 11:\n",
    "    result = result + i\n",
    "    product = product * i\n",
    "    i = i + 1\n",
    "print('The sum(using while loop) =',result)\n",
    "print('The product(using while loop) =',product)\n"
   ]
  },
  {
   "cell_type": "code",
   "execution_count": 4,
   "id": "d4a2d009-2305-489c-bba9-fa84ba47a4eb",
   "metadata": {},
   "outputs": [
    {
     "name": "stdin",
     "output_type": "stream",
     "text": [
      "Enter the units of elctricity consumed in a month 310\n"
     ]
    },
    {
     "name": "stdout",
     "output_type": "stream",
     "text": [
      "The unit of electricity consumed by the user in a month is 310\n",
      "The total electricity bill should be 2250\n"
     ]
    }
   ],
   "source": [
    "#Question 3\n",
    "nunit = 0\n",
    "unit = int(input('Enter the units of elctricity consumed in a month'))\n",
    "if unit <= 100:\n",
    "    bill = unit * 4.5\n",
    "elif unit > 100 and unit <= 200:\n",
    "    nunit = unit - 100\n",
    "    bill = (100 * 4.5) + (nunit * 6)\n",
    "elif unit > 200 and unit <= 300:\n",
    "    nunit = unit - 200\n",
    "    bill = (100 * 4.5) + (100 * 6) + (nunit * 10)\n",
    "else:\n",
    "    nunit = unit - 300\n",
    "    bill = (100 * 4.5) + (100 * 6) + (100 * 10) + (nunit * 20)\n",
    "print('The unit of electricity consumed by the user in a month is',unit)\n",
    "print('The total electricity bill should be',int(bill))"
   ]
  },
  {
   "cell_type": "code",
   "execution_count": 2,
   "id": "b6811949-359e-4cb3-a3ef-9142d5b33808",
   "metadata": {},
   "outputs": [
    {
     "data": {
      "text/plain": [
       "2250.0"
      ]
     },
     "execution_count": 2,
     "metadata": {},
     "output_type": "execute_result"
    }
   ],
   "source": [
    "4.5*100 + 6*100 + 100*10 +10*20"
   ]
  },
  {
   "cell_type": "code",
   "execution_count": 8,
   "id": "fe076ed6-1107-4630-a3f0-bfcac6f3d372",
   "metadata": {},
   "outputs": [
    {
     "name": "stdout",
     "output_type": "stream",
     "text": [
      "list is = [36, 100, 225, 784, 1296, 2025, 3025, 4356, 6084, 11025, 14400, 18496, 36100, 44100, 76176, 90000, 105625, 142884, 164836, 189225, 216225, 246016, 278784, 354025, 396900, 443556, 608400, 672400, 894916, 980100, 1071225, 1272384, 1382976, 1500625, 1625625, 1758276, 1898884, 2205225, 2371600, 2547216, 3132900, 3348900, 4064256, 4326400, 4601025, 5189284, 5503716, 5832225, 6175225, 6533136, 6906384, 7700625, 8122500, 8561476, 9985600, 10497600, 12152196, 12744900, 13359025, 14653584, 15335056, 16040025, 16769025, 17522596, 18301284, 19936225, 20793600, 21678336, 24502500, 25502500]\n"
     ]
    }
   ],
   "source": [
    "#Qestion 4\n",
    "l = []\n",
    "for i in range(1,101):\n",
    "    l.append(i)\n",
    "#for loop calculation\n",
    "l1 = []\n",
    "cube = 0\n",
    "for i in l:\n",
    "    cube = cube + (i*i*i)\n",
    "    if cube%4==0 or cube%5==0:\n",
    "        l1.append(cube)\n",
    "    else:\n",
    "        continue\n",
    "print('list is =',l1)\n",
    "\n",
    "#while loop calculation\n",
    "    \n"
   ]
  },
  {
   "cell_type": "code",
   "execution_count": 2,
   "id": "6c1a4398-53e9-45ac-b6b7-f8118b6e8665",
   "metadata": {},
   "outputs": [
    {
     "name": "stdout",
     "output_type": "stream",
     "text": [
      "vowels = 12\n"
     ]
    }
   ],
   "source": [
    "#Question 5\n",
    "string = \"I want to become a data scientist\"\n",
    "c = 0\n",
    "for i in string.lower():\n",
    "    if i in ['a','e','i','o','u']:\n",
    "        c +=1\n",
    "print('vowels =',c)\n"
   ]
  },
  {
   "cell_type": "code",
   "execution_count": null,
   "id": "f53afb2d-83a5-4222-9f60-07990f5a5b6b",
   "metadata": {},
   "outputs": [],
   "source": []
  }
 ],
 "metadata": {
  "kernelspec": {
   "display_name": "Python 3 (ipykernel)",
   "language": "python",
   "name": "python3"
  },
  "language_info": {
   "codemirror_mode": {
    "name": "ipython",
    "version": 3
   },
   "file_extension": ".py",
   "mimetype": "text/x-python",
   "name": "python",
   "nbconvert_exporter": "python",
   "pygments_lexer": "ipython3",
   "version": "3.10.8"
  }
 },
 "nbformat": 4,
 "nbformat_minor": 5
}
